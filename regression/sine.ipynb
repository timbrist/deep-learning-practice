{
 "cells": [
  {
   "cell_type": "code",
   "execution_count": null,
   "metadata": {},
   "outputs": [],
   "source": [
    "import numpy as np"
   ]
  },
  {
   "cell_type": "code",
   "execution_count": null,
   "metadata": {},
   "outputs": [],
   "source": [
    "#fully connected layer\n",
    "class dense_layer():\n",
    "    def __init__(self, input_size, output_size):\n",
    "        self.weights = np.random.randn(output_size, input_size)\n",
    "        self.bias = np.random.randn(output_size, 1)\n",
    "        \n",
    "    def forward(self, input):\n",
    "        self.input = input\n",
    "        output = np.dot(self.weights, self.input) + self.bias\n",
    "        return output\n",
    "    \n",
    "    def backward(self, output_gradient, learning_rate):\n",
    "        weights_gradient = np.dot(output_gradient, self.input.T)\n",
    "        bias_gradient = output_gradient\n",
    "        input_gradient = np.dot(self.weights.T, output_gradient)\n",
    "        #update the coefficient\n",
    "        self.weights -= learning_rate * weights_gradient\n",
    "        self.bias -= learning_rate * bias_gradient\n",
    "        return input_gradient"
   ]
  },
  {
   "cell_type": "code",
   "execution_count": null,
   "metadata": {},
   "outputs": [],
   "source": [
    "#Activation Function\n",
    "class tanh_layer():\n",
    "    def __init__(self):\n",
    "        self.activation = lambda x : np.tanh(x)\n",
    "        self.activation_derivative = lambda x : 1 - np.tanh(x) ** 2\n",
    "\n",
    "    def forward(self, input):\n",
    "        self.input = input\n",
    "        output = self.activation(self.input)\n",
    "        return output\n",
    "    \n",
    "    def backward(self, output_gradient,learning_rate):\n",
    "        next_gradient = np.multiply(output_gradient, self.activation_derivative(self.input))\n",
    "        return next_gradient"
   ]
  },
  {
   "cell_type": "code",
   "execution_count": null,
   "metadata": {},
   "outputs": [],
   "source": [
    "def mse(y_true, y_pred):\n",
    "    return np.mean(np.power(y_true - y_pred, 2))\n",
    "\n",
    "def mse_derivative(y_true, y_pred):\n",
    "    return 2 * (y_pred - y_true) / np.size(y_true)"
   ]
  },
  {
   "cell_type": "code",
   "execution_count": null,
   "metadata": {},
   "outputs": [],
   "source": [
    "# Generate data for sine function\n",
    "data_points = 100\n",
    "X = np.linspace(0, 2 * np.pi, data_points).reshape(-1, 1)\n",
    "Y = np.sin(X)\n",
    "\n",
    "epochs = 3000\n",
    "learning_rate = 0.001\n",
    "network = [\n",
    "    dense_layer(1, 10),\n",
    "    tanh_layer(),\n",
    "    dense_layer(10, 1),\n",
    "    tanh_layer()\n",
    "]\n",
    "def predict(network, input):\n",
    "    output = input\n",
    "    for layer in network:\n",
    "        output = layer.forward(output)\n",
    "    return output\n",
    "# Training loop\n",
    "for e in range(epochs):\n",
    "    error = 0\n",
    "    for i in range(data_points):\n",
    "        # forward\n",
    "        output = predict(network, X[i].reshape(-1, 1))\n",
    "\n",
    "         # backward\n",
    "        grad = mse_derivative(Y[i], output)\n",
    "        for layer in reversed(network):\n",
    "            grad = layer.backward(grad,learning_rate)\n",
    "\n",
    "        # error\n",
    "        error += mse(Y[i], output)\n",
    "\n",
    "    error /= data_points\n",
    "    if e % 1000 == 0:\n",
    "        print(f\"{e + 1}/{epochs}, error={error}\")"
   ]
  },
  {
   "cell_type": "code",
   "execution_count": null,
   "metadata": {},
   "outputs": [],
   "source": [
    "# Plot the results\n",
    "points = []\n",
    "for i in range(data_points):\n",
    "    z = predict(network, X[i].reshape(-1, 1))\n",
    "    points.append(z[0,0])\n",
    "\n",
    "points = np.array(points)\n",
    "\n",
    "import matplotlib.pyplot as plt\n",
    "from mpl_toolkits.mplot3d import Axes3D\n",
    "plt.plot(X, Y, label='True')\n",
    "plt.plot(X, points, label='Predicted')\n",
    "plt.legend()\n",
    "plt.show()"
   ]
  }
 ],
 "metadata": {
  "language_info": {
   "name": "python"
  }
 },
 "nbformat": 4,
 "nbformat_minor": 2
}
