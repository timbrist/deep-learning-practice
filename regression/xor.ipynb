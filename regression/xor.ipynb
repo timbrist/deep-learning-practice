{
 "cells": [
  {
   "cell_type": "code",
   "execution_count": null,
   "metadata": {},
   "outputs": [],
   "source": [
    "import numpy as np"
   ]
  },
  {
   "cell_type": "code",
   "execution_count": null,
   "metadata": {},
   "outputs": [],
   "source": [
    "#fully connected layer\n",
    "class dense_layer():\n",
    "    def __init__(self, input_size, output_size):\n",
    "        self.weights = np.random.randn(output_size, input_size)\n",
    "        self.bias = np.random.randn(output_size, 1)\n",
    "\n",
    "    # [ [y1 = x1w11 + x2w12+...+xiw1i + b1] \n",
    "    #   [y2 = x1w21 + x2w22+...+xiw2i + b2]\n",
    "    #   [yj = x1wj1 + x2wj2+...+xiwji + bj] ]\n",
    "    def forward(self, input):\n",
    "        self.input = input\n",
    "        output = np.dot(self.weights, self.input) + self.bias\n",
    "        return output\n",
    "    \n",
    "    # dW = dE/dY * X^{-1}\n",
    "    # dB = dE/dY\n",
    "    # dX = W^{-1} * dE/dY\n",
    "    def backward(self, output_gradient, learning_rate):\n",
    "        weights_gradient = np.dot(output_gradient, self.input.T)\n",
    "        bias_gradient = output_gradient\n",
    "        input_gradient = np.dot(self.weights.T, output_gradient)\n",
    "        #update the coefficient\n",
    "        self.weights -= learning_rate * weights_gradient\n",
    "        self.bias -= learning_rate * bias_gradient\n",
    "        return input_gradient"
   ]
  },
  {
   "cell_type": "code",
   "execution_count": null,
   "metadata": {},
   "outputs": [],
   "source": [
    "#Activation Function\n",
    "class tanh_layer():\n",
    "    def __init__(self):\n",
    "        self.activation = lambda x : np.tanh(x)\n",
    "        self.activation_derivative = lambda x : 1 - np.tanh(x) ** 2\n",
    "    # [ [y1 = f(x1)] \n",
    "    #   [y2 = f(x2)]\n",
    "    #   [yj = f(xi)] ]\n",
    "    def forward(self, input):\n",
    "        self.input = input\n",
    "        output = self.activation(self.input)\n",
    "        return output\n",
    "    \n",
    "    # dxi = dE / dyi (multiply) df/dxi\n",
    "    def backward(self, output_gradient,learning_rate):\n",
    "        next_gradient = np.multiply(output_gradient, self.activation_derivative(self.input))\n",
    "        return next_gradient"
   ]
  },
  {
   "cell_type": "code",
   "execution_count": null,
   "metadata": {},
   "outputs": [],
   "source": [
    "def mse(y_true, y_pred):\n",
    "    return np.mean(np.power(y_true - y_pred, 2))\n",
    "\n",
    "def mse_derivative(y_true, y_pred):\n",
    "    return 2 * (y_pred - y_true) / np.size(y_true)\n"
   ]
  },
  {
   "cell_type": "code",
   "execution_count": null,
   "metadata": {},
   "outputs": [],
   "source": [
    "X = np.array([ [[0],[0]], \n",
    "               [[0],[1]], \n",
    "               [[1],[0]], \n",
    "               [[1],[1]] ])\n",
    "Y = np.array([[0], [1], [1], [0]])\n",
    "network = [\n",
    "    dense_layer(2,4),\n",
    "    tanh_layer(),\n",
    "    dense_layer(4, 1),\n",
    "    tanh_layer()\n",
    "]\n",
    "epochs = 10000\n",
    "learning_rate = 0.1\n",
    "def predict(network, input):\n",
    "    output = input\n",
    "    for layer in network:\n",
    "        output = layer.forward(output)\n",
    "    return output\n",
    "\n",
    "for e in range(epochs):\n",
    "    for i in range(4):\n",
    "        # forward\n",
    "        output = predict(network, X[i])\n",
    "\n",
    "        # backward\n",
    "        grad = mse_derivative(Y[i], output)\n",
    "        for layer in reversed(network):\n",
    "            grad = layer.backward(grad,learning_rate)\n",
    "\n",
    "\n",
    "        if e % 1000 == 0:\n",
    "            loss = np.mean(np.power(Y[i] - output, 2))\n",
    "            print(f'Epoch {e}, Loss: {loss}')"
   ]
  },
  {
   "cell_type": "code",
   "execution_count": null,
   "metadata": {},
   "outputs": [],
   "source": [
    "# decision boundary plot\n",
    "import matplotlib.pyplot as plt\n",
    "from mpl_toolkits.mplot3d import Axes3D\n",
    "points = []\n",
    "for x1 in np.linspace(0, 1, 20):\n",
    "    for x2 in np.linspace(0, 1, 20):\n",
    "        z = predict(network, [[x1], [x2]])\n",
    "        points.append([x1, x2, z[0,0]])\n",
    "\n",
    "points = np.array(points)\n",
    "\n",
    "fig = plt.figure()\n",
    "ax = fig.add_subplot(111, projection=\"3d\")\n",
    "ax.scatter(points[:, 0], points[:, 1], points[:, 2], c=points[:, 2], cmap=\"winter\")\n",
    "plt.show()\n"
   ]
  }
 ],
 "metadata": {
  "language_info": {
   "name": "python"
  }
 },
 "nbformat": 4,
 "nbformat_minor": 2
}
